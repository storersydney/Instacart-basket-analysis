{
 "cells": [
  {
   "cell_type": "markdown",
   "id": "3b3524d5-2965-4266-99c6-61840574dadc",
   "metadata": {},
   "source": [
    "# 4.2 Importing Libraries and Python Data Types\n",
    "## Contents\n",
    "#### 01 Importing Libraries\n",
    "#### 02 Data Types"
   ]
  },
  {
   "cell_type": "markdown",
   "id": "c121e86c-e3d1-4481-9718-7536e196aadc",
   "metadata": {},
   "source": [
    "# 01 Importing Libraries"
   ]
  },
  {
   "cell_type": "code",
   "execution_count": 23,
   "id": "084ef2f6-f225-47a6-a15d-6521da41c792",
   "metadata": {},
   "outputs": [],
   "source": [
    "# Importing Libraries\n",
    "import pandas as pd\n",
    "import numpy as np\n",
    "import os"
   ]
  },
  {
   "cell_type": "markdown",
   "id": "b13e217f-d3aa-4a19-8340-08ba2ec7b81c",
   "metadata": {},
   "source": [
    "# 02 Data Types"
   ]
  },
  {
   "cell_type": "code",
   "execution_count": 27,
   "id": "ebcfc56d-9519-4c74-9011-db71304728ae",
   "metadata": {},
   "outputs": [
    {
     "data": {
      "text/plain": [
       "100"
      ]
     },
     "execution_count": 27,
     "metadata": {},
     "output_type": "execute_result"
    }
   ],
   "source": [
    "x=49\n",
    "y=51\n",
    "x+y"
   ]
  },
  {
   "cell_type": "code",
   "execution_count": 29,
   "id": "b18f0fa8-348c-4bad-9420-8e88965e7b1d",
   "metadata": {},
   "outputs": [
    {
     "data": {
      "text/plain": [
       "100"
      ]
     },
     "execution_count": 29,
     "metadata": {},
     "output_type": "execute_result"
    }
   ],
   "source": [
    "x=x+1\n",
    "x*2"
   ]
  },
  {
   "cell_type": "code",
   "execution_count": 31,
   "id": "9f445c5b-e70a-4e94-b4ef-6d9f82e3fcad",
   "metadata": {},
   "outputs": [
    {
     "data": {
      "text/plain": [
       "100"
      ]
     },
     "execution_count": 31,
     "metadata": {},
     "output_type": "execute_result"
    }
   ],
   "source": [
    "x+x"
   ]
  },
  {
   "cell_type": "code",
   "execution_count": 33,
   "id": "ea11a766-ccc4-42fe-9583-a7814089e490",
   "metadata": {},
   "outputs": [
    {
     "data": {
      "text/plain": [
       "35.78346456692913"
      ]
     },
     "execution_count": 33,
     "metadata": {},
     "output_type": "execute_result"
    }
   ],
   "source": [
    "x=90.89\n",
    "y=2.54\n",
    "x/y"
   ]
  },
  {
   "cell_type": "code",
   "execution_count": 39,
   "id": "165634dc-8a39-4d12-bc09-da0187cb8a2c",
   "metadata": {},
   "outputs": [
    {
     "data": {
      "text/plain": [
       "'neighborhood'"
      ]
     },
     "execution_count": 39,
     "metadata": {},
     "output_type": "execute_result"
    }
   ],
   "source": [
    "a='neighbor'\n",
    "b='hood'\n",
    "a+b"
   ]
  },
  {
   "cell_type": "code",
   "execution_count": 41,
   "id": "6bca8f79-b377-4895-9506-a1f529d1fe28",
   "metadata": {},
   "outputs": [
    {
     "data": {
      "text/plain": [
       "'I am happy.'"
      ]
     },
     "execution_count": 41,
     "metadata": {},
     "output_type": "execute_result"
    }
   ],
   "source": [
    "a='I '\n",
    "b='am '\n",
    "c='happy.'\n",
    "a+b+c"
   ]
  },
  {
   "cell_type": "code",
   "execution_count": 45,
   "id": "7693fd76-ecb2-48aa-b76d-574c32ff0b8e",
   "metadata": {},
   "outputs": [
    {
     "data": {
      "text/plain": [
       "'I have a cat.'"
      ]
     },
     "execution_count": 45,
     "metadata": {},
     "output_type": "execute_result"
    }
   ],
   "source": [
    "d='have '\n",
    "e='a '\n",
    "f='cat.'\n",
    "a+d+e+f"
   ]
  },
  {
   "cell_type": "code",
   "execution_count": null,
   "id": "a6f199a1-b17c-488a-8a02-90f521c28afd",
   "metadata": {},
   "outputs": [],
   "source": []
  }
 ],
 "metadata": {
  "kernelspec": {
   "display_name": "Python 3 (ipykernel)",
   "language": "python",
   "name": "python3"
  },
  "language_info": {
   "codemirror_mode": {
    "name": "ipython",
    "version": 3
   },
   "file_extension": ".py",
   "mimetype": "text/x-python",
   "name": "python",
   "nbconvert_exporter": "python",
   "pygments_lexer": "ipython3",
   "version": "3.12.4"
  }
 },
 "nbformat": 4,
 "nbformat_minor": 5
}
